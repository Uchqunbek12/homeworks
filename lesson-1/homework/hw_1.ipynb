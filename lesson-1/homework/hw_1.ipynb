{
 "cells": [
  {
   "cell_type": "markdown",
   "metadata": {},
   "source": [
    "1. Given a side of square. Find its perimeter and area."
   ]
  },
  {
   "cell_type": "code",
   "execution_count": null,
   "metadata": {},
   "outputs": [
    {
     "name": "stdout",
     "output_type": "stream",
     "text": [
      "Kvadrat tomoni: 12.0 bo'lsa u holda;\n",
      "Kvadiratning peremetri: 48.0. Kvadiratning yuzi: 144.0.\n"
     ]
    }
   ],
   "source": [
    "a=float(input(\"Kvadratning tomonini kiriting:\"))\n",
    "\n",
    "p = 4*a\n",
    "s = a**2\n",
    "\n",
    "\n",
    "print(f\"Kvadiratning peremetri: {p}. Kvadiratning yuzi: {s}.\")"
   ]
  },
  {
   "cell_type": "markdown",
   "metadata": {},
   "source": [
    "2.Given diameter of circle. Find its length."
   ]
  },
  {
   "cell_type": "code",
   "execution_count": 2,
   "metadata": {},
   "outputs": [
    {
     "name": "stdout",
     "output_type": "stream",
     "text": [
      "Doiraning uzunligi: 3.141592653589793\n"
     ]
    }
   ],
   "source": [
    "import math\n",
    "d = float(input(\"Doiraning diametrini kiriting:\"))\n",
    "\n",
    "l =math.pi * d\n",
    "\n",
    "print(f\"Doiraning uzunligi: {l}\")"
   ]
  },
  {
   "cell_type": "markdown",
   "metadata": {},
   "source": [
    "3 Given two numbers a and b. Find their mean"
   ]
  },
  {
   "cell_type": "code",
   "execution_count": 4,
   "metadata": {},
   "outputs": [
    {
     "name": "stdout",
     "output_type": "stream",
     "text": [
      "Ortacha qiymat: 10.0\n"
     ]
    }
   ],
   "source": [
    "a = float(input(\"Birinchi sonni kiriting:\"))\n",
    "b = float(input(\"Ikkinchi sonni kiriting:\"))\n",
    "\n",
    "mean = (a + b) / 2\n",
    "\n",
    "print(f\"Ortacha qiymat: {mean}\")"
   ]
  },
  {
   "cell_type": "markdown",
   "metadata": {},
   "source": [
    "4.Given two numbers a and b. Find their sum, product and square of each number."
   ]
  },
  {
   "cell_type": "code",
   "execution_count": 5,
   "metadata": {},
   "outputs": [
    {
     "name": "stdout",
     "output_type": "stream",
     "text": [
      "Yigindi: 17.0\n",
      "Ko'paytma: 60.0\n",
      "12.0 sonning kvadrati: 144.0\n",
      "5.0 sonning kvadrati: 25.0\n"
     ]
    }
   ],
   "source": [
    "a = float(input(\"Birinchi sonni kiriting: \"))\n",
    "b = float(input(\"Ikkinchi sonni kiriting: \"))\n",
    "\n",
    "sum = a + b\n",
    "ab = a * b\n",
    "kv_a = a ** 2\n",
    "kv_b = b ** 2\n",
    "\n",
    "print(f\"Yigindi: {sum}\")\n",
    "print(f\"Ko'paytma: {ab}\")\n",
    "print(f\"{a} sonning kvadrati: {kv_a}\")\n",
    "print(f\"{b} sonning kvadrati: {kv_b}\")\n"
   ]
  }
 ],
 "metadata": {
  "kernelspec": {
   "display_name": "Python 3",
   "language": "python",
   "name": "python3"
  },
  "language_info": {
   "codemirror_mode": {
    "name": "ipython",
    "version": 3
   },
   "file_extension": ".py",
   "mimetype": "text/x-python",
   "name": "python",
   "nbconvert_exporter": "python",
   "pygments_lexer": "ipython3",
   "version": "3.11.9"
  }
 },
 "nbformat": 4,
 "nbformat_minor": 2
}
