{
 "cells": [
  {
   "cell_type": "markdown",
   "metadata": {},
   "source": [
    "Homework 2:\n",
    "\n",
    "Create a DataFrame named sales_and_expenses with columns 'Month', 'Sales', and 'Expenses', representing monthly sales and expenses data. Use below table.\n",
    "Month\tSales\tExpenses\n",
    "Jan\t5000\t3000\n",
    "Feb\t6000\t3500\n",
    "Mar\t7500\t4000\n",
    "Apr\t8000\t4500\n",
    "Calculate and display the maximum sales and expenses.\n",
    "Calculate and display the minimum sales and expenses.\n",
    "Calculate and display the average sales and expenses."
   ]
  },
  {
   "cell_type": "code",
   "execution_count": 6,
   "metadata": {},
   "outputs": [],
   "source": [
    "import pandas as pd"
   ]
  },
  {
   "cell_type": "code",
   "execution_count": 7,
   "metadata": {},
   "outputs": [
    {
     "name": "stdout",
     "output_type": "stream",
     "text": [
      "  Month  Sales  Expenses\n",
      "0   Jan   5000      3000\n",
      "1   Feb   6000      3500\n",
      "2   Mar   7500      4000\n",
      "3   Apr   8000      4500\n"
     ]
    }
   ],
   "source": [
    "data = {'Month' : ['Jan', 'Feb', 'Mar', 'Apr'], \n",
    "        'Sales' : [5000, 6000, 7500, 8000],\n",
    "        'Expenses' : [3000,3500,4000,4500]}\n",
    "df = pd.DataFrame(data)\n",
    "print(df)"
   ]
  },
  {
   "cell_type": "code",
   "execution_count": null,
   "metadata": {},
   "outputs": [
    {
     "data": {
      "text/plain": [
       "Sales       5000\n",
       "Expenses    3000\n",
       "dtype: int64"
      ]
     },
     "execution_count": 29,
     "metadata": {},
     "output_type": "execute_result"
    }
   ],
   "source": [
    "df_min = df.iloc[:,1:3].min()\n",
    "print(df_min)"
   ]
  },
  {
   "cell_type": "code",
   "execution_count": 30,
   "metadata": {},
   "outputs": [
    {
     "name": "stdout",
     "output_type": "stream",
     "text": [
      "Sales       8000\n",
      "Expenses    4500\n",
      "dtype: int64\n"
     ]
    }
   ],
   "source": [
    "df_min = df.iloc[:,1:3].max()\n",
    "print(df_min)"
   ]
  },
  {
   "cell_type": "code",
   "execution_count": 32,
   "metadata": {},
   "outputs": [
    {
     "name": "stdout",
     "output_type": "stream",
     "text": [
      "Sales       6625.0\n",
      "Expenses    3750.0\n",
      "dtype: float64\n"
     ]
    }
   ],
   "source": [
    "df_min = df.iloc[:,1:3].mean()\n",
    "print(df_min)"
   ]
  }
 ],
 "metadata": {
  "kernelspec": {
   "display_name": "Python 3",
   "language": "python",
   "name": "python3"
  },
  "language_info": {
   "codemirror_mode": {
    "name": "ipython",
    "version": 3
   },
   "file_extension": ".py",
   "mimetype": "text/x-python",
   "name": "python",
   "nbconvert_exporter": "python",
   "pygments_lexer": "ipython3",
   "version": "3.11.9"
  }
 },
 "nbformat": 4,
 "nbformat_minor": 2
}
