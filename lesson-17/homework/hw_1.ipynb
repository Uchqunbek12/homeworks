{
 "cells": [
  {
   "cell_type": "markdown",
   "metadata": {},
   "source": [
    "Homework 1:\n",
    "\n",
    "import pandas as pd\n",
    "\n",
    "data = {'First Name': ['Alice', 'Bob', 'Charlie', 'David'], 'Age': [25, 30, 35, 40], 'City': ['New York', 'San Francisco', 'Los Angeles', 'Chicago']} df = pd.DataFrame(data)\n",
    "\n",
    "Rename column names using function. \"First Name\" --> \"first_name\", \"Age\" --> \"age\n",
    "Print the first 3 rows of the DataFrame\n",
    "Find the mean age of the individuals\n",
    "Select and print only the 'Name' and 'City' columns\n",
    "Add a new column 'Salary' with random salary values\n",
    "Display summary statistics of the DataFrame"
   ]
  },
  {
   "cell_type": "code",
   "execution_count": 119,
   "metadata": {},
   "outputs": [],
   "source": [
    "import pandas as pd\n",
    "data = ({'First Name': ['Alice', 'Bob', 'Charlie', 'David'], \n",
    "        'Age': [25, 30, 35, 40],\n",
    "        'City': ['New York', 'San Francisco', 'Los Angeles', 'Chicago']})\n",
    "df = pd.DataFrame(data)"
   ]
  },
  {
   "cell_type": "code",
   "execution_count": 120,
   "metadata": {},
   "outputs": [],
   "source": [
    "df.rename(columns={'First Name':'firs_name', 'Age':'age'}, inplace=True)"
   ]
  },
  {
   "cell_type": "code",
   "execution_count": 121,
   "metadata": {},
   "outputs": [
    {
     "name": "stdout",
     "output_type": "stream",
     "text": [
      "  firs_name  age           City\n",
      "0     Alice   25       New York\n",
      "1       Bob   30  San Francisco\n",
      "2   Charlie   35    Los Angeles\n"
     ]
    }
   ],
   "source": [
    "print(df.head(3))"
   ]
  },
  {
   "cell_type": "code",
   "execution_count": 122,
   "metadata": {},
   "outputs": [
    {
     "name": "stdout",
     "output_type": "stream",
     "text": [
      "Mean age: 32.5\n"
     ]
    }
   ],
   "source": [
    "mean = df['age'].mean()\n",
    "print(f\"Mean age: {mean}\")"
   ]
  },
  {
   "cell_type": "code",
   "execution_count": 123,
   "metadata": {},
   "outputs": [
    {
     "name": "stdout",
     "output_type": "stream",
     "text": [
      "  firs_name           City\n",
      "0     Alice       New York\n",
      "1       Bob  San Francisco\n",
      "2   Charlie    Los Angeles\n",
      "3     David        Chicago\n"
     ]
    }
   ],
   "source": [
    "print(df[['firs_name','City']])"
   ]
  },
  {
   "cell_type": "code",
   "execution_count": 124,
   "metadata": {},
   "outputs": [],
   "source": [
    "import numpy as np"
   ]
  },
  {
   "cell_type": "code",
   "execution_count": 131,
   "metadata": {},
   "outputs": [
    {
     "name": "stdout",
     "output_type": "stream",
     "text": [
      "  firs_name  age           City  Salary\n",
      "0     Alice   25       New York   39170\n",
      "1       Bob   30  San Francisco   39170\n",
      "2   Charlie   35    Los Angeles   39170\n",
      "3     David   40        Chicago   39170\n"
     ]
    }
   ],
   "source": [
    "df['Salary'] = np.random.randint(10000,50000)\n",
    "print(df)"
   ]
  },
  {
   "cell_type": "code",
   "execution_count": 132,
   "metadata": {},
   "outputs": [
    {
     "name": "stdout",
     "output_type": "stream",
     "text": [
      "             age   Salary\n",
      "count   4.000000      4.0\n",
      "mean   32.500000  39170.0\n",
      "std     6.454972      0.0\n",
      "min    25.000000  39170.0\n",
      "25%    28.750000  39170.0\n",
      "50%    32.500000  39170.0\n",
      "75%    36.250000  39170.0\n",
      "max    40.000000  39170.0\n"
     ]
    }
   ],
   "source": [
    "print(df.describe())"
   ]
  }
 ],
 "metadata": {
  "kernelspec": {
   "display_name": "Python 3",
   "language": "python",
   "name": "python3"
  },
  "language_info": {
   "codemirror_mode": {
    "name": "ipython",
    "version": 3
   },
   "file_extension": ".py",
   "mimetype": "text/x-python",
   "name": "python",
   "nbconvert_exporter": "python",
   "pygments_lexer": "ipython3",
   "version": "3.11.9"
  }
 },
 "nbformat": 4,
 "nbformat_minor": 2
}
